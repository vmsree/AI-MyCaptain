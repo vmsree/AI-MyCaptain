{
 "cells": [
  {
   "cell_type": "code",
   "execution_count": null,
   "id": "8a0ddf52",
   "metadata": {},
   "outputs": [],
   "source": [
    "pip install np_utils"
   ]
  },
  {
   "cell_type": "code",
   "execution_count": null,
   "id": "640462c3",
   "metadata": {
    "scrolled": true
   },
   "outputs": [],
   "source": [
    "pip install keras"
   ]
  },
  {
   "cell_type": "code",
   "execution_count": null,
   "id": "b652fd45",
   "metadata": {
    "scrolled": true
   },
   "outputs": [],
   "source": [
    "pip install tensorflow"
   ]
  },
  {
   "cell_type": "code",
   "execution_count": 1,
   "id": "a00d485d",
   "metadata": {},
   "outputs": [
    {
     "name": "stderr",
     "output_type": "stream",
     "text": [
      "[nltk_data] Downloading package stopwords to\n",
      "[nltk_data]     C:\\Users\\vidya\\AppData\\Roaming\\nltk_data...\n",
      "[nltk_data]   Package stopwords is already up-to-date!\n"
     ]
    },
    {
     "name": "stdout",
     "output_type": "stream",
     "text": [
      "WARNING:tensorflow:From C:\\Users\\vidya\\anaconda3\\Lib\\site-packages\\keras\\src\\losses.py:2976: The name tf.losses.sparse_softmax_cross_entropy is deprecated. Please use tf.compat.v1.losses.sparse_softmax_cross_entropy instead.\n",
      "\n"
     ]
    }
   ],
   "source": [
    "import numpy as np\n",
    "import sys\n",
    "import nltk\n",
    "nltk.download('stopwords')\n",
    "from nltk.tokenize import RegexpTokenizer\n",
    "from nltk.corpus import stopwords\n",
    "from keras.models import Sequential\n",
    "from keras.layers import Dense, Dropout, LSTM\n",
    "from keras.callbacks import ModelCheckpoint\n",
    "from keras.src.utils.np_utils import to_categorical"
   ]
  },
  {
   "cell_type": "code",
   "execution_count": 2,
   "id": "13833e81",
   "metadata": {},
   "outputs": [],
   "source": [
    "#tokenization\n",
    "def tokenize_words(ip):\n",
    "    ip = ip.lower()\n",
    "    tokenizer = RegexpTokenizer(r'\\w+')\n",
    "    tokens = tokenizer.tokenize(ip)\n",
    "    filtered = filter(lambda token: token not in stopwords.words('english'), tokens)\n",
    "    return \" \".join(filtered)"
   ]
  },
  {
   "cell_type": "code",
   "execution_count": 3,
   "id": "a832a57d",
   "metadata": {},
   "outputs": [],
   "source": [
    "data = open(\"D:/Datasets/frankenstein.txt\", encoding='utf8')"
   ]
  },
  {
   "cell_type": "code",
   "execution_count": 4,
   "id": "9e596924",
   "metadata": {},
   "outputs": [],
   "source": [
    "processed_inputs = \"\"\n",
    "for line in data:\n",
    "    processed_inputs = processed_inputs + \" \" + tokenize_words(line)"
   ]
  },
  {
   "cell_type": "code",
   "execution_count": 6,
   "id": "2bad7a7e",
   "metadata": {},
   "outputs": [],
   "source": [
    "#char to number\n",
    "chars = sorted(list(set(processed_inputs)))\n",
    "char_to_num = dict((c,i) for i, c in enumerate(chars))"
   ]
  },
  {
   "cell_type": "code",
   "execution_count": 7,
   "id": "26ec665e",
   "metadata": {},
   "outputs": [
    {
     "name": "stdout",
     "output_type": "stream",
     "text": [
      "Total no of characters:  62246\n",
      "Total vocab:  38\n"
     ]
    }
   ],
   "source": [
    "#check if words to chars or chars to num has worked\n",
    "input_len = len(processed_inputs)\n",
    "vocab_len = len(chars)\n",
    "print(\"Total no of characters: \", input_len)\n",
    "print(\"Total vocab: \", vocab_len)"
   ]
  },
  {
   "cell_type": "code",
   "execution_count": 8,
   "id": "3d841e0b",
   "metadata": {},
   "outputs": [],
   "source": [
    "#seq length\n",
    "seq_length = 100\n",
    "x_data = []\n",
    "y_data = []"
   ]
  },
  {
   "cell_type": "code",
   "execution_count": 9,
   "id": "439356b5",
   "metadata": {},
   "outputs": [
    {
     "name": "stdout",
     "output_type": "stream",
     "text": [
      "Total Patterns:  62146\n"
     ]
    }
   ],
   "source": [
    "#loop throught the sequence\n",
    "for i in range(0, input_len - seq_length, 1):\n",
    "    in_seq = processed_inputs[i:i + seq_length]\n",
    "    out_seq = processed_inputs[i + seq_length]\n",
    "    x_data.append([char_to_num[char] for char in in_seq])\n",
    "    y_data.append(char_to_num[out_seq])\n",
    "    \n",
    "n_patterns = len(x_data)\n",
    "print(\"Total Patterns: \", n_patterns)"
   ]
  },
  {
   "cell_type": "code",
   "execution_count": 10,
   "id": "c5ed6591",
   "metadata": {},
   "outputs": [],
   "source": [
    "#convert input seqence to np array\n",
    "X = np.reshape(x_data, (n_patterns, seq_length, 1))\n",
    "X = X/float(vocab_len)"
   ]
  },
  {
   "cell_type": "code",
   "execution_count": 11,
   "id": "8b5bf22a",
   "metadata": {},
   "outputs": [],
   "source": [
    "# one hot encoding\n",
    "y = to_categorical(y_data)"
   ]
  },
  {
   "cell_type": "code",
   "execution_count": 12,
   "id": "36195b63",
   "metadata": {},
   "outputs": [
    {
     "name": "stdout",
     "output_type": "stream",
     "text": [
      "WARNING:tensorflow:From C:\\Users\\vidya\\anaconda3\\Lib\\site-packages\\keras\\src\\backend.py:873: The name tf.get_default_graph is deprecated. Please use tf.compat.v1.get_default_graph instead.\n",
      "\n"
     ]
    }
   ],
   "source": [
    "# creating the model - sequential\n",
    "# dropout is used to prevent overfitting\n",
    "model = Sequential()\n",
    "model.add(LSTM(256, input_shape=(X.shape[1], X.shape[2]), return_sequences=True))\n",
    "model.add(Dropout(0.2))\n",
    "model.add(LSTM(256, return_sequences=True))\n",
    "model.add(Dropout(0.2))\n",
    "model.add(LSTM(128))\n",
    "model.add(Dropout(0.2))\n",
    "model.add(Dense(y.shape[1], activation='softmax'))"
   ]
  },
  {
   "cell_type": "code",
   "execution_count": 13,
   "id": "a78ec64d",
   "metadata": {},
   "outputs": [
    {
     "name": "stdout",
     "output_type": "stream",
     "text": [
      "WARNING:tensorflow:From C:\\Users\\vidya\\anaconda3\\Lib\\site-packages\\keras\\src\\optimizers\\__init__.py:309: The name tf.train.Optimizer is deprecated. Please use tf.compat.v1.train.Optimizer instead.\n",
      "\n"
     ]
    }
   ],
   "source": [
    "#compile the model\n",
    "model.compile(loss='categorical_crossentropy', optimizer='adam')"
   ]
  },
  {
   "cell_type": "code",
   "execution_count": 14,
   "id": "85379a99",
   "metadata": {},
   "outputs": [],
   "source": [
    "# saving weights\n",
    "filepath = \"model_weights_saved.hsf5\"\n",
    "checkpoint = ModelCheckpoint(filepath, monitor=\"loss\", vertose = 1, save_best_only=True, mode='min')\n",
    "desired_callbacks = [checkpoint]"
   ]
  },
  {
   "cell_type": "code",
   "execution_count": 15,
   "id": "8d950986",
   "metadata": {
    "scrolled": true
   },
   "outputs": [
    {
     "name": "stdout",
     "output_type": "stream",
     "text": [
      "Epoch 1/50\n",
      "WARNING:tensorflow:From C:\\Users\\vidya\\anaconda3\\Lib\\site-packages\\keras\\src\\utils\\tf_utils.py:492: The name tf.ragged.RaggedTensorValue is deprecated. Please use tf.compat.v1.ragged.RaggedTensorValue instead.\n",
      "\n",
      "243/243 [==============================] - ETA: 0s - loss: 2.9535INFO:tensorflow:Assets written to: model_weights_saved.hsf5\\assets\n"
     ]
    },
    {
     "name": "stderr",
     "output_type": "stream",
     "text": [
      "INFO:tensorflow:Assets written to: model_weights_saved.hsf5\\assets\n"
     ]
    },
    {
     "name": "stdout",
     "output_type": "stream",
     "text": [
      "243/243 [==============================] - 340s 1s/step - loss: 2.9535\n",
      "Epoch 2/50\n",
      "243/243 [==============================] - ETA: 0s - loss: 2.9183INFO:tensorflow:Assets written to: model_weights_saved.hsf5\\assets\n"
     ]
    },
    {
     "name": "stderr",
     "output_type": "stream",
     "text": [
      "INFO:tensorflow:Assets written to: model_weights_saved.hsf5\\assets\n"
     ]
    },
    {
     "name": "stdout",
     "output_type": "stream",
     "text": [
      "243/243 [==============================] - 316s 1s/step - loss: 2.9183\n",
      "Epoch 3/50\n",
      "243/243 [==============================] - ETA: 0s - loss: 2.9095INFO:tensorflow:Assets written to: model_weights_saved.hsf5\\assets\n"
     ]
    },
    {
     "name": "stderr",
     "output_type": "stream",
     "text": [
      "INFO:tensorflow:Assets written to: model_weights_saved.hsf5\\assets\n"
     ]
    },
    {
     "name": "stdout",
     "output_type": "stream",
     "text": [
      "243/243 [==============================] - 315s 1s/step - loss: 2.9095\n",
      "Epoch 4/50\n",
      "243/243 [==============================] - ETA: 0s - loss: 2.8478INFO:tensorflow:Assets written to: model_weights_saved.hsf5\\assets\n"
     ]
    },
    {
     "name": "stderr",
     "output_type": "stream",
     "text": [
      "INFO:tensorflow:Assets written to: model_weights_saved.hsf5\\assets\n"
     ]
    },
    {
     "name": "stdout",
     "output_type": "stream",
     "text": [
      "243/243 [==============================] - 322s 1s/step - loss: 2.8478\n",
      "Epoch 5/50\n",
      "243/243 [==============================] - ETA: 0s - loss: 2.7176INFO:tensorflow:Assets written to: model_weights_saved.hsf5\\assets\n"
     ]
    },
    {
     "name": "stderr",
     "output_type": "stream",
     "text": [
      "INFO:tensorflow:Assets written to: model_weights_saved.hsf5\\assets\n"
     ]
    },
    {
     "name": "stdout",
     "output_type": "stream",
     "text": [
      "243/243 [==============================] - 312s 1s/step - loss: 2.7176\n",
      "Epoch 6/50\n",
      "243/243 [==============================] - ETA: 0s - loss: 2.6650INFO:tensorflow:Assets written to: model_weights_saved.hsf5\\assets\n"
     ]
    },
    {
     "name": "stderr",
     "output_type": "stream",
     "text": [
      "INFO:tensorflow:Assets written to: model_weights_saved.hsf5\\assets\n"
     ]
    },
    {
     "name": "stdout",
     "output_type": "stream",
     "text": [
      "243/243 [==============================] - 318s 1s/step - loss: 2.6650\n",
      "Epoch 7/50\n",
      "243/243 [==============================] - ETA: 0s - loss: 2.6152INFO:tensorflow:Assets written to: model_weights_saved.hsf5\\assets\n"
     ]
    },
    {
     "name": "stderr",
     "output_type": "stream",
     "text": [
      "INFO:tensorflow:Assets written to: model_weights_saved.hsf5\\assets\n"
     ]
    },
    {
     "name": "stdout",
     "output_type": "stream",
     "text": [
      "243/243 [==============================] - 316s 1s/step - loss: 2.6152\n",
      "Epoch 8/50\n",
      "243/243 [==============================] - ETA: 0s - loss: 2.5663INFO:tensorflow:Assets written to: model_weights_saved.hsf5\\assets\n"
     ]
    },
    {
     "name": "stderr",
     "output_type": "stream",
     "text": [
      "INFO:tensorflow:Assets written to: model_weights_saved.hsf5\\assets\n"
     ]
    },
    {
     "name": "stdout",
     "output_type": "stream",
     "text": [
      "243/243 [==============================] - 317s 1s/step - loss: 2.5663\n",
      "Epoch 9/50\n",
      "243/243 [==============================] - ETA: 0s - loss: 2.5216INFO:tensorflow:Assets written to: model_weights_saved.hsf5\\assets\n"
     ]
    },
    {
     "name": "stderr",
     "output_type": "stream",
     "text": [
      "INFO:tensorflow:Assets written to: model_weights_saved.hsf5\\assets\n"
     ]
    },
    {
     "name": "stdout",
     "output_type": "stream",
     "text": [
      "243/243 [==============================] - 320s 1s/step - loss: 2.5216\n",
      "Epoch 10/50\n",
      "243/243 [==============================] - ETA: 0s - loss: 2.4836INFO:tensorflow:Assets written to: model_weights_saved.hsf5\\assets\n"
     ]
    },
    {
     "name": "stderr",
     "output_type": "stream",
     "text": [
      "INFO:tensorflow:Assets written to: model_weights_saved.hsf5\\assets\n"
     ]
    },
    {
     "name": "stdout",
     "output_type": "stream",
     "text": [
      "243/243 [==============================] - 349s 1s/step - loss: 2.4836\n",
      "Epoch 11/50\n",
      "243/243 [==============================] - ETA: 0s - loss: 2.4449INFO:tensorflow:Assets written to: model_weights_saved.hsf5\\assets\n"
     ]
    },
    {
     "name": "stderr",
     "output_type": "stream",
     "text": [
      "INFO:tensorflow:Assets written to: model_weights_saved.hsf5\\assets\n"
     ]
    },
    {
     "name": "stdout",
     "output_type": "stream",
     "text": [
      "243/243 [==============================] - 342s 1s/step - loss: 2.4449\n",
      "Epoch 12/50\n",
      "243/243 [==============================] - ETA: 0s - loss: 2.4088INFO:tensorflow:Assets written to: model_weights_saved.hsf5\\assets\n"
     ]
    },
    {
     "name": "stderr",
     "output_type": "stream",
     "text": [
      "INFO:tensorflow:Assets written to: model_weights_saved.hsf5\\assets\n"
     ]
    },
    {
     "name": "stdout",
     "output_type": "stream",
     "text": [
      "243/243 [==============================] - 347s 1s/step - loss: 2.4088\n",
      "Epoch 13/50\n",
      "243/243 [==============================] - ETA: 0s - loss: 2.3711INFO:tensorflow:Assets written to: model_weights_saved.hsf5\\assets\n"
     ]
    },
    {
     "name": "stderr",
     "output_type": "stream",
     "text": [
      "INFO:tensorflow:Assets written to: model_weights_saved.hsf5\\assets\n"
     ]
    },
    {
     "name": "stdout",
     "output_type": "stream",
     "text": [
      "243/243 [==============================] - 312s 1s/step - loss: 2.3711\n",
      "Epoch 14/50\n",
      "243/243 [==============================] - ETA: 0s - loss: 2.3357INFO:tensorflow:Assets written to: model_weights_saved.hsf5\\assets\n"
     ]
    },
    {
     "name": "stderr",
     "output_type": "stream",
     "text": [
      "INFO:tensorflow:Assets written to: model_weights_saved.hsf5\\assets\n"
     ]
    },
    {
     "name": "stdout",
     "output_type": "stream",
     "text": [
      "243/243 [==============================] - 417s 2s/step - loss: 2.3357\n",
      "Epoch 15/50\n",
      "243/243 [==============================] - ETA: 0s - loss: 2.3023INFO:tensorflow:Assets written to: model_weights_saved.hsf5\\assets\n"
     ]
    },
    {
     "name": "stderr",
     "output_type": "stream",
     "text": [
      "INFO:tensorflow:Assets written to: model_weights_saved.hsf5\\assets\n"
     ]
    },
    {
     "name": "stdout",
     "output_type": "stream",
     "text": [
      "243/243 [==============================] - 525s 2s/step - loss: 2.3023\n",
      "Epoch 16/50\n",
      "243/243 [==============================] - ETA: 0s - loss: 2.2704INFO:tensorflow:Assets written to: model_weights_saved.hsf5\\assets\n"
     ]
    },
    {
     "name": "stderr",
     "output_type": "stream",
     "text": [
      "INFO:tensorflow:Assets written to: model_weights_saved.hsf5\\assets\n"
     ]
    },
    {
     "name": "stdout",
     "output_type": "stream",
     "text": [
      "243/243 [==============================] - 389s 2s/step - loss: 2.2704\n",
      "Epoch 17/50\n",
      "243/243 [==============================] - ETA: 0s - loss: 2.2400INFO:tensorflow:Assets written to: model_weights_saved.hsf5\\assets\n"
     ]
    },
    {
     "name": "stderr",
     "output_type": "stream",
     "text": [
      "INFO:tensorflow:Assets written to: model_weights_saved.hsf5\\assets\n"
     ]
    },
    {
     "name": "stdout",
     "output_type": "stream",
     "text": [
      "243/243 [==============================] - 597s 2s/step - loss: 2.2400\n",
      "Epoch 18/50\n",
      "243/243 [==============================] - ETA: 0s - loss: 2.2136INFO:tensorflow:Assets written to: model_weights_saved.hsf5\\assets\n"
     ]
    },
    {
     "name": "stderr",
     "output_type": "stream",
     "text": [
      "INFO:tensorflow:Assets written to: model_weights_saved.hsf5\\assets\n"
     ]
    },
    {
     "name": "stdout",
     "output_type": "stream",
     "text": [
      "243/243 [==============================] - 1257s 5s/step - loss: 2.2136\n",
      "Epoch 19/50\n",
      "243/243 [==============================] - ETA: 0s - loss: 2.1888INFO:tensorflow:Assets written to: model_weights_saved.hsf5\\assets\n"
     ]
    },
    {
     "name": "stderr",
     "output_type": "stream",
     "text": [
      "INFO:tensorflow:Assets written to: model_weights_saved.hsf5\\assets\n"
     ]
    },
    {
     "name": "stdout",
     "output_type": "stream",
     "text": [
      "243/243 [==============================] - 598s 2s/step - loss: 2.1888\n",
      "Epoch 20/50\n",
      "243/243 [==============================] - ETA: 0s - loss: 2.1611INFO:tensorflow:Assets written to: model_weights_saved.hsf5\\assets\n"
     ]
    },
    {
     "name": "stderr",
     "output_type": "stream",
     "text": [
      "INFO:tensorflow:Assets written to: model_weights_saved.hsf5\\assets\n"
     ]
    },
    {
     "name": "stdout",
     "output_type": "stream",
     "text": [
      "243/243 [==============================] - 605s 2s/step - loss: 2.1611\n",
      "Epoch 21/50\n",
      "243/243 [==============================] - ETA: 0s - loss: 2.1319INFO:tensorflow:Assets written to: model_weights_saved.hsf5\\assets\n"
     ]
    },
    {
     "name": "stderr",
     "output_type": "stream",
     "text": [
      "INFO:tensorflow:Assets written to: model_weights_saved.hsf5\\assets\n"
     ]
    },
    {
     "name": "stdout",
     "output_type": "stream",
     "text": [
      "243/243 [==============================] - 611s 3s/step - loss: 2.1319\n",
      "Epoch 22/50\n",
      "243/243 [==============================] - ETA: 0s - loss: 2.1144INFO:tensorflow:Assets written to: model_weights_saved.hsf5\\assets\n"
     ]
    },
    {
     "name": "stderr",
     "output_type": "stream",
     "text": [
      "INFO:tensorflow:Assets written to: model_weights_saved.hsf5\\assets\n"
     ]
    },
    {
     "name": "stdout",
     "output_type": "stream",
     "text": [
      "243/243 [==============================] - 620s 3s/step - loss: 2.1144\n",
      "Epoch 23/50\n",
      "243/243 [==============================] - ETA: 0s - loss: 2.0982INFO:tensorflow:Assets written to: model_weights_saved.hsf5\\assets\n"
     ]
    },
    {
     "name": "stderr",
     "output_type": "stream",
     "text": [
      "INFO:tensorflow:Assets written to: model_weights_saved.hsf5\\assets\n"
     ]
    },
    {
     "name": "stdout",
     "output_type": "stream",
     "text": [
      "243/243 [==============================] - 610s 3s/step - loss: 2.0982\n",
      "Epoch 24/50\n",
      "243/243 [==============================] - ETA: 0s - loss: 2.0745INFO:tensorflow:Assets written to: model_weights_saved.hsf5\\assets\n"
     ]
    },
    {
     "name": "stderr",
     "output_type": "stream",
     "text": [
      "INFO:tensorflow:Assets written to: model_weights_saved.hsf5\\assets\n"
     ]
    },
    {
     "name": "stdout",
     "output_type": "stream",
     "text": [
      "243/243 [==============================] - 587s 2s/step - loss: 2.0745\n",
      "Epoch 25/50\n",
      "243/243 [==============================] - ETA: 0s - loss: 2.0533INFO:tensorflow:Assets written to: model_weights_saved.hsf5\\assets\n"
     ]
    },
    {
     "name": "stderr",
     "output_type": "stream",
     "text": [
      "INFO:tensorflow:Assets written to: model_weights_saved.hsf5\\assets\n"
     ]
    },
    {
     "name": "stdout",
     "output_type": "stream",
     "text": [
      "243/243 [==============================] - 615s 3s/step - loss: 2.0533\n",
      "Epoch 26/50\n",
      "243/243 [==============================] - ETA: 0s - loss: 2.0350INFO:tensorflow:Assets written to: model_weights_saved.hsf5\\assets\n"
     ]
    },
    {
     "name": "stderr",
     "output_type": "stream",
     "text": [
      "INFO:tensorflow:Assets written to: model_weights_saved.hsf5\\assets\n"
     ]
    },
    {
     "name": "stdout",
     "output_type": "stream",
     "text": [
      "243/243 [==============================] - 2172s 9s/step - loss: 2.0350\n",
      "Epoch 27/50\n",
      "243/243 [==============================] - ETA: 0s - loss: 2.0150INFO:tensorflow:Assets written to: model_weights_saved.hsf5\\assets\n"
     ]
    },
    {
     "name": "stderr",
     "output_type": "stream",
     "text": [
      "INFO:tensorflow:Assets written to: model_weights_saved.hsf5\\assets\n"
     ]
    },
    {
     "name": "stdout",
     "output_type": "stream",
     "text": [
      "243/243 [==============================] - 308s 1s/step - loss: 2.0150\n",
      "Epoch 28/50\n",
      "243/243 [==============================] - ETA: 0s - loss: 1.9988INFO:tensorflow:Assets written to: model_weights_saved.hsf5\\assets\n"
     ]
    },
    {
     "name": "stderr",
     "output_type": "stream",
     "text": [
      "INFO:tensorflow:Assets written to: model_weights_saved.hsf5\\assets\n"
     ]
    },
    {
     "name": "stdout",
     "output_type": "stream",
     "text": [
      "243/243 [==============================] - 316s 1s/step - loss: 1.9988\n",
      "Epoch 29/50\n",
      "243/243 [==============================] - ETA: 0s - loss: 1.9846INFO:tensorflow:Assets written to: model_weights_saved.hsf5\\assets\n"
     ]
    },
    {
     "name": "stderr",
     "output_type": "stream",
     "text": [
      "INFO:tensorflow:Assets written to: model_weights_saved.hsf5\\assets\n"
     ]
    },
    {
     "name": "stdout",
     "output_type": "stream",
     "text": [
      "243/243 [==============================] - 327s 1s/step - loss: 1.9846\n",
      "Epoch 30/50\n",
      "243/243 [==============================] - ETA: 0s - loss: 1.9658INFO:tensorflow:Assets written to: model_weights_saved.hsf5\\assets\n"
     ]
    },
    {
     "name": "stderr",
     "output_type": "stream",
     "text": [
      "INFO:tensorflow:Assets written to: model_weights_saved.hsf5\\assets\n"
     ]
    },
    {
     "name": "stdout",
     "output_type": "stream",
     "text": [
      "243/243 [==============================] - 320s 1s/step - loss: 1.9658\n",
      "Epoch 31/50\n",
      "243/243 [==============================] - ETA: 0s - loss: 1.9504INFO:tensorflow:Assets written to: model_weights_saved.hsf5\\assets\n"
     ]
    },
    {
     "name": "stderr",
     "output_type": "stream",
     "text": [
      "INFO:tensorflow:Assets written to: model_weights_saved.hsf5\\assets\n"
     ]
    },
    {
     "name": "stdout",
     "output_type": "stream",
     "text": [
      "243/243 [==============================] - 337s 1s/step - loss: 1.9504\n",
      "Epoch 32/50\n",
      "243/243 [==============================] - ETA: 0s - loss: 1.9373INFO:tensorflow:Assets written to: model_weights_saved.hsf5\\assets\n"
     ]
    },
    {
     "name": "stderr",
     "output_type": "stream",
     "text": [
      "INFO:tensorflow:Assets written to: model_weights_saved.hsf5\\assets\n"
     ]
    },
    {
     "name": "stdout",
     "output_type": "stream",
     "text": [
      "243/243 [==============================] - 319s 1s/step - loss: 1.9373\n",
      "Epoch 33/50\n",
      "243/243 [==============================] - ETA: 0s - loss: 1.9207INFO:tensorflow:Assets written to: model_weights_saved.hsf5\\assets\n"
     ]
    },
    {
     "name": "stderr",
     "output_type": "stream",
     "text": [
      "INFO:tensorflow:Assets written to: model_weights_saved.hsf5\\assets\n"
     ]
    },
    {
     "name": "stdout",
     "output_type": "stream",
     "text": [
      "243/243 [==============================] - 360s 1s/step - loss: 1.9207\n",
      "Epoch 34/50\n",
      "243/243 [==============================] - ETA: 0s - loss: 1.9078INFO:tensorflow:Assets written to: model_weights_saved.hsf5\\assets\n"
     ]
    },
    {
     "name": "stderr",
     "output_type": "stream",
     "text": [
      "INFO:tensorflow:Assets written to: model_weights_saved.hsf5\\assets\n"
     ]
    },
    {
     "name": "stdout",
     "output_type": "stream",
     "text": [
      "243/243 [==============================] - 356s 1s/step - loss: 1.9078\n",
      "Epoch 35/50\n",
      "243/243 [==============================] - ETA: 0s - loss: 1.8963INFO:tensorflow:Assets written to: model_weights_saved.hsf5\\assets\n"
     ]
    },
    {
     "name": "stderr",
     "output_type": "stream",
     "text": [
      "INFO:tensorflow:Assets written to: model_weights_saved.hsf5\\assets\n"
     ]
    },
    {
     "name": "stdout",
     "output_type": "stream",
     "text": [
      "243/243 [==============================] - 359s 1s/step - loss: 1.8963\n",
      "Epoch 36/50\n",
      "243/243 [==============================] - ETA: 0s - loss: 1.8812INFO:tensorflow:Assets written to: model_weights_saved.hsf5\\assets\n"
     ]
    },
    {
     "name": "stderr",
     "output_type": "stream",
     "text": [
      "INFO:tensorflow:Assets written to: model_weights_saved.hsf5\\assets\n"
     ]
    },
    {
     "name": "stdout",
     "output_type": "stream",
     "text": [
      "243/243 [==============================] - 609s 3s/step - loss: 1.8812\n",
      "Epoch 37/50\n",
      "243/243 [==============================] - ETA: 0s - loss: 1.8744INFO:tensorflow:Assets written to: model_weights_saved.hsf5\\assets\n"
     ]
    },
    {
     "name": "stderr",
     "output_type": "stream",
     "text": [
      "INFO:tensorflow:Assets written to: model_weights_saved.hsf5\\assets\n"
     ]
    },
    {
     "name": "stdout",
     "output_type": "stream",
     "text": [
      "243/243 [==============================] - 655s 3s/step - loss: 1.8744\n",
      "Epoch 38/50\n",
      "243/243 [==============================] - ETA: 0s - loss: 1.8622INFO:tensorflow:Assets written to: model_weights_saved.hsf5\\assets\n"
     ]
    },
    {
     "name": "stderr",
     "output_type": "stream",
     "text": [
      "INFO:tensorflow:Assets written to: model_weights_saved.hsf5\\assets\n"
     ]
    },
    {
     "name": "stdout",
     "output_type": "stream",
     "text": [
      "243/243 [==============================] - 625s 3s/step - loss: 1.8622\n",
      "Epoch 39/50\n",
      "243/243 [==============================] - ETA: 0s - loss: 1.8445INFO:tensorflow:Assets written to: model_weights_saved.hsf5\\assets\n"
     ]
    },
    {
     "name": "stderr",
     "output_type": "stream",
     "text": [
      "INFO:tensorflow:Assets written to: model_weights_saved.hsf5\\assets\n"
     ]
    },
    {
     "name": "stdout",
     "output_type": "stream",
     "text": [
      "243/243 [==============================] - 626s 3s/step - loss: 1.8445\n",
      "Epoch 40/50\n",
      "243/243 [==============================] - ETA: 0s - loss: 1.8385INFO:tensorflow:Assets written to: model_weights_saved.hsf5\\assets\n"
     ]
    },
    {
     "name": "stderr",
     "output_type": "stream",
     "text": [
      "INFO:tensorflow:Assets written to: model_weights_saved.hsf5\\assets\n"
     ]
    },
    {
     "name": "stdout",
     "output_type": "stream",
     "text": [
      "243/243 [==============================] - 635s 3s/step - loss: 1.8385\n",
      "Epoch 41/50\n",
      "243/243 [==============================] - ETA: 0s - loss: 1.8231INFO:tensorflow:Assets written to: model_weights_saved.hsf5\\assets\n"
     ]
    },
    {
     "name": "stderr",
     "output_type": "stream",
     "text": [
      "INFO:tensorflow:Assets written to: model_weights_saved.hsf5\\assets\n"
     ]
    },
    {
     "name": "stdout",
     "output_type": "stream",
     "text": [
      "243/243 [==============================] - 625s 3s/step - loss: 1.8231\n",
      "Epoch 42/50\n",
      "243/243 [==============================] - ETA: 0s - loss: 1.8124INFO:tensorflow:Assets written to: model_weights_saved.hsf5\\assets\n"
     ]
    },
    {
     "name": "stderr",
     "output_type": "stream",
     "text": [
      "INFO:tensorflow:Assets written to: model_weights_saved.hsf5\\assets\n"
     ]
    },
    {
     "name": "stdout",
     "output_type": "stream",
     "text": [
      "243/243 [==============================] - 611s 3s/step - loss: 1.8124\n",
      "Epoch 43/50\n",
      "243/243 [==============================] - ETA: 0s - loss: 1.8081INFO:tensorflow:Assets written to: model_weights_saved.hsf5\\assets\n"
     ]
    },
    {
     "name": "stderr",
     "output_type": "stream",
     "text": [
      "INFO:tensorflow:Assets written to: model_weights_saved.hsf5\\assets\n"
     ]
    },
    {
     "name": "stdout",
     "output_type": "stream",
     "text": [
      "243/243 [==============================] - 395s 2s/step - loss: 1.8081\n",
      "Epoch 44/50\n",
      "243/243 [==============================] - ETA: 0s - loss: 1.7949INFO:tensorflow:Assets written to: model_weights_saved.hsf5\\assets\n"
     ]
    },
    {
     "name": "stderr",
     "output_type": "stream",
     "text": [
      "INFO:tensorflow:Assets written to: model_weights_saved.hsf5\\assets\n"
     ]
    },
    {
     "name": "stdout",
     "output_type": "stream",
     "text": [
      "243/243 [==============================] - 362s 1s/step - loss: 1.7949\n",
      "Epoch 45/50\n",
      "243/243 [==============================] - ETA: 0s - loss: 1.7859INFO:tensorflow:Assets written to: model_weights_saved.hsf5\\assets\n"
     ]
    },
    {
     "name": "stderr",
     "output_type": "stream",
     "text": [
      "INFO:tensorflow:Assets written to: model_weights_saved.hsf5\\assets\n"
     ]
    },
    {
     "name": "stdout",
     "output_type": "stream",
     "text": [
      "243/243 [==============================] - 364s 1s/step - loss: 1.7859\n",
      "Epoch 46/50\n",
      "243/243 [==============================] - ETA: 0s - loss: 1.7762INFO:tensorflow:Assets written to: model_weights_saved.hsf5\\assets\n"
     ]
    },
    {
     "name": "stderr",
     "output_type": "stream",
     "text": [
      "INFO:tensorflow:Assets written to: model_weights_saved.hsf5\\assets\n"
     ]
    },
    {
     "name": "stdout",
     "output_type": "stream",
     "text": [
      "243/243 [==============================] - 401s 2s/step - loss: 1.7762\n",
      "Epoch 47/50\n",
      "243/243 [==============================] - ETA: 0s - loss: 1.7692INFO:tensorflow:Assets written to: model_weights_saved.hsf5\\assets\n"
     ]
    },
    {
     "name": "stderr",
     "output_type": "stream",
     "text": [
      "INFO:tensorflow:Assets written to: model_weights_saved.hsf5\\assets\n"
     ]
    },
    {
     "name": "stdout",
     "output_type": "stream",
     "text": [
      "243/243 [==============================] - 384s 2s/step - loss: 1.7692\n",
      "Epoch 48/50\n",
      "243/243 [==============================] - ETA: 0s - loss: 1.7547INFO:tensorflow:Assets written to: model_weights_saved.hsf5\\assets\n"
     ]
    },
    {
     "name": "stderr",
     "output_type": "stream",
     "text": [
      "INFO:tensorflow:Assets written to: model_weights_saved.hsf5\\assets\n"
     ]
    },
    {
     "name": "stdout",
     "output_type": "stream",
     "text": [
      "243/243 [==============================] - 392s 2s/step - loss: 1.7547\n",
      "Epoch 49/50\n",
      "243/243 [==============================] - ETA: 0s - loss: 1.7536INFO:tensorflow:Assets written to: model_weights_saved.hsf5\\assets\n"
     ]
    },
    {
     "name": "stderr",
     "output_type": "stream",
     "text": [
      "INFO:tensorflow:Assets written to: model_weights_saved.hsf5\\assets\n"
     ]
    },
    {
     "name": "stdout",
     "output_type": "stream",
     "text": [
      "243/243 [==============================] - 379s 2s/step - loss: 1.7536\n",
      "Epoch 50/50\n",
      "243/243 [==============================] - ETA: 0s - loss: 1.7410INFO:tensorflow:Assets written to: model_weights_saved.hsf5\\assets\n"
     ]
    },
    {
     "name": "stderr",
     "output_type": "stream",
     "text": [
      "INFO:tensorflow:Assets written to: model_weights_saved.hsf5\\assets\n"
     ]
    },
    {
     "name": "stdout",
     "output_type": "stream",
     "text": [
      "243/243 [==============================] - 375s 2s/step - loss: 1.7410\n"
     ]
    },
    {
     "data": {
      "text/plain": [
       "<keras.src.callbacks.History at 0x1913d2a5c90>"
      ]
     },
     "execution_count": 15,
     "metadata": {},
     "output_type": "execute_result"
    }
   ],
   "source": [
    "# fit the model and let it train\n",
    "model.fit(X, y, epochs=50, batch_size=256, callbacks=desired_callbacks)"
   ]
  },
  {
   "cell_type": "code",
   "execution_count": 16,
   "id": "c17f5d6c",
   "metadata": {},
   "outputs": [],
   "source": [
    "#recompile model with saved weights\n",
    "filename = \"model_weights_saved.hsf5\"\n",
    "model.load_weights(filename)\n",
    "model.compile(loss='categorical_crossentropy', optimizer='adam')"
   ]
  },
  {
   "cell_type": "code",
   "execution_count": 17,
   "id": "b8dcfcd0",
   "metadata": {},
   "outputs": [],
   "source": [
    "# out of the model back into characters\n",
    "num_to_char = dict((i, c) for i, c in enumerate(chars))"
   ]
  },
  {
   "cell_type": "code",
   "execution_count": 18,
   "id": "7648eac3",
   "metadata": {},
   "outputs": [
    {
     "name": "stdout",
     "output_type": "stream",
     "text": [
      "Random Seed: \n",
      "\" easure know hear lips interest sympathy shall read future day even commence task full toned voice sw \"\n"
     ]
    }
   ],
   "source": [
    "# random seed to help generate\n",
    "\n",
    "start = np.random.randint(0, len(x_data)-1)\n",
    "pattern = x_data[start]\n",
    "print(\"Random Seed: \")\n",
    "print(\"\\\"\", ''.join([num_to_char[value] for value in pattern]), \"\\\"\")"
   ]
  },
  {
   "cell_type": "code",
   "execution_count": 19,
   "id": "d9975c17",
   "metadata": {},
   "outputs": [
    {
     "name": "stdout",
     "output_type": "stream",
     "text": [
      "rpose shink person seemed strange sead arpect spon semain seemed strange sear man shink person seemed strange sead arpect spon semain seemed strange sear man shink person seemed strange sead arpect spon semain seemed strange sear man shink person seemed strange sead arpect spon semain seemed strange sear man shink person seemed strange sead arpect spon semain seemed strange sear man shink person seemed strange sead arpect spon semain seemed strange sear man shink person seemed strange sead arpect spon semain seemed strange sear man shink person seemed strange sead arpect spon semain seemed strange sear man shink person seemed strange sead arpect spon semain seemed strange sear man shink person seemed strange sead arpect spon semain seemed strange sear man shink person seemed strange sead arpect spon semain seemed strange sear man shink person seemed strange sead arpect spon semain seemed strange sear man shink person seemed strange sead arpect spon semain seemed strange sear man shink "
     ]
    }
   ],
   "source": [
    "# generate the text\n",
    "for i in range(1000):\n",
    "    x = np.reshape(pattern, (1, len(pattern), 1))\n",
    "    x = x/float(vocab_len)\n",
    "    prediction = model.predict(x, verbose=0)\n",
    "    index = np.argmax(prediction)\n",
    "    result = num_to_char[index]\n",
    "    seq_in = [num_to_char[value] for value in pattern]\n",
    "    sys.stdout.write(result)\n",
    "    pattern.append(index)\n",
    "    pattern = pattern[1:len(pattern)]"
   ]
  },
  {
   "cell_type": "code",
   "execution_count": null,
   "id": "2c5a5fb6",
   "metadata": {},
   "outputs": [],
   "source": []
  },
  {
   "cell_type": "code",
   "execution_count": null,
   "id": "62e266fe",
   "metadata": {},
   "outputs": [],
   "source": []
  },
  {
   "cell_type": "code",
   "execution_count": null,
   "id": "5a189898",
   "metadata": {},
   "outputs": [],
   "source": []
  },
  {
   "cell_type": "code",
   "execution_count": null,
   "id": "d08945bd",
   "metadata": {},
   "outputs": [],
   "source": []
  },
  {
   "cell_type": "code",
   "execution_count": null,
   "id": "97716ecc",
   "metadata": {},
   "outputs": [],
   "source": []
  },
  {
   "cell_type": "code",
   "execution_count": null,
   "id": "84cb879e",
   "metadata": {},
   "outputs": [],
   "source": []
  },
  {
   "cell_type": "code",
   "execution_count": null,
   "id": "08ef9808",
   "metadata": {},
   "outputs": [],
   "source": []
  },
  {
   "cell_type": "code",
   "execution_count": null,
   "id": "6a785802",
   "metadata": {},
   "outputs": [],
   "source": []
  },
  {
   "cell_type": "code",
   "execution_count": null,
   "id": "08125577",
   "metadata": {},
   "outputs": [],
   "source": []
  }
 ],
 "metadata": {
  "kernelspec": {
   "display_name": "Python 3 (ipykernel)",
   "language": "python",
   "name": "python3"
  },
  "language_info": {
   "codemirror_mode": {
    "name": "ipython",
    "version": 3
   },
   "file_extension": ".py",
   "mimetype": "text/x-python",
   "name": "python",
   "nbconvert_exporter": "python",
   "pygments_lexer": "ipython3",
   "version": "3.11.5"
  }
 },
 "nbformat": 4,
 "nbformat_minor": 5
}
